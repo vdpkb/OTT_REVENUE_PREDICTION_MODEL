{
 "cells": [
  {
   "cell_type": "markdown",
   "id": "2f019064",
   "metadata": {},
   "source": [
    "# OTT REVENUE PREDICTION MODEL"
   ]
  },
  {
   "cell_type": "markdown",
   "id": "79e309ff",
   "metadata": {},
   "source": [
    "A model to predict the revenue in million dollars based on the number of scubscribers. \n",
    "\n",
    "Data set:\n",
    "\n",
    "Independant variable X: Subscribers/Year/Content Spend/Profit  \n",
    "Dependant variable Y: Overall revenue generated in dollars"
   ]
  },
  {
   "cell_type": "code",
   "execution_count": 1,
   "id": "e3133568",
   "metadata": {},
   "outputs": [],
   "source": [
    "#import required libraries\n",
    "import numpy as np \n",
    "import pandas as pd \n",
    "import os\n",
    "import seaborn as sns\n",
    "import matplotlib.pyplot as plt"
   ]
  },
  {
   "cell_type": "code",
   "execution_count": 2,
   "id": "344b96b3",
   "metadata": {},
   "outputs": [
    {
     "name": "stdout",
     "output_type": "stream",
     "text": [
      "C:\\Users\\vdp10002\\Desktop\\MainProject_OTTRevenuePredictionModel\\Netflix\\ContentSpend.csv\n",
      "C:\\Users\\vdp10002\\Desktop\\MainProject_OTTRevenuePredictionModel\\Netflix\\NumSubscribers.csv\n",
      "C:\\Users\\vdp10002\\Desktop\\MainProject_OTTRevenuePredictionModel\\Netflix\\NumSubscribersByRegion.csv\n",
      "C:\\Users\\vdp10002\\Desktop\\MainProject_OTTRevenuePredictionModel\\Netflix\\Profit.csv\n",
      "C:\\Users\\vdp10002\\Desktop\\MainProject_OTTRevenuePredictionModel\\Netflix\\Revenue.csv\n",
      "C:\\Users\\vdp10002\\Desktop\\MainProject_OTTRevenuePredictionModel\\Netflix\\RevenueByRegion.csv\n"
     ]
    }
   ],
   "source": [
    "#List all files used\n",
    "for dirname, _, filenames in os.walk(r\"C:\\Users\\vdp10002\\Desktop\\MainProject_OTTRevenuePredictionModel\"):\n",
    "    for filename in filenames:\n",
    "        print(os.path.join(dirname, filename))"
   ]
  },
  {
   "cell_type": "code",
   "execution_count": 3,
   "id": "fe9d11bc",
   "metadata": {},
   "outputs": [
    {
     "data": {
      "text/html": [
       "<div>\n",
       "<style scoped>\n",
       "    .dataframe tbody tr th:only-of-type {\n",
       "        vertical-align: middle;\n",
       "    }\n",
       "\n",
       "    .dataframe tbody tr th {\n",
       "        vertical-align: top;\n",
       "    }\n",
       "\n",
       "    .dataframe thead th {\n",
       "        text-align: right;\n",
       "    }\n",
       "</style>\n",
       "<table border=\"1\" class=\"dataframe\">\n",
       "  <thead>\n",
       "    <tr style=\"text-align: right;\">\n",
       "      <th></th>\n",
       "      <th>Year</th>\n",
       "      <th>Profit</th>\n",
       "    </tr>\n",
       "  </thead>\n",
       "  <tbody>\n",
       "    <tr>\n",
       "      <th>0</th>\n",
       "      <td>2012</td>\n",
       "      <td>0.050</td>\n",
       "    </tr>\n",
       "    <tr>\n",
       "      <th>1</th>\n",
       "      <td>2013</td>\n",
       "      <td>0.228</td>\n",
       "    </tr>\n",
       "    <tr>\n",
       "      <th>2</th>\n",
       "      <td>2014</td>\n",
       "      <td>0.403</td>\n",
       "    </tr>\n",
       "    <tr>\n",
       "      <th>3</th>\n",
       "      <td>2015</td>\n",
       "      <td>0.306</td>\n",
       "    </tr>\n",
       "    <tr>\n",
       "      <th>4</th>\n",
       "      <td>2016</td>\n",
       "      <td>0.379</td>\n",
       "    </tr>\n",
       "    <tr>\n",
       "      <th>5</th>\n",
       "      <td>2017</td>\n",
       "      <td>0.839</td>\n",
       "    </tr>\n",
       "    <tr>\n",
       "      <th>6</th>\n",
       "      <td>2018</td>\n",
       "      <td>1.600</td>\n",
       "    </tr>\n",
       "    <tr>\n",
       "      <th>7</th>\n",
       "      <td>2019</td>\n",
       "      <td>2.600</td>\n",
       "    </tr>\n",
       "    <tr>\n",
       "      <th>8</th>\n",
       "      <td>2020</td>\n",
       "      <td>4.500</td>\n",
       "    </tr>\n",
       "  </tbody>\n",
       "</table>\n",
       "</div>"
      ],
      "text/plain": [
       "   Year  Profit\n",
       "0  2012   0.050\n",
       "1  2013   0.228\n",
       "2  2014   0.403\n",
       "3  2015   0.306\n",
       "4  2016   0.379\n",
       "5  2017   0.839\n",
       "6  2018   1.600\n",
       "7  2019   2.600\n",
       "8  2020   4.500"
      ]
     },
     "execution_count": 3,
     "metadata": {},
     "output_type": "execute_result"
    }
   ],
   "source": [
    "#import datset\n",
    "df_profit = pd.read_csv(r\"C:\\Users\\vdp10002\\OneDrive - Advanced Micro Devices Inc\\IISC_project\\MainProject_OTTRevenuePredictionModel\\Netflix\\Profit.csv\")\n",
    "df_subscribers = pd.read_csv(r\"C:\\Users\\vdp10002\\Desktop\\MainProject_OTTRevenuePredictionModel\\Netflix\\NumSubscribers.csv\")\n",
    "df_revenue = pd.read_csv(r\"C:\\Users\\vdp10002\\Desktop\\MainProject_OTTRevenuePredictionModel\\Netflix\\Revenue.csv\")\n",
    "df_ContentSpend=pd.read_csv(r\"C:\\Users\\vdp10002\\Desktop\\MainProject_OTTRevenuePredictionModel\\Netflix\\ContentSpend.csv\")\n",
    "#initial exploration of data\n",
    "df_profit"
   ]
  },
  {
   "cell_type": "code",
   "execution_count": 4,
   "id": "b41c4cf1",
   "metadata": {},
   "outputs": [
    {
     "data": {
      "text/html": [
       "<div>\n",
       "<style scoped>\n",
       "    .dataframe tbody tr th:only-of-type {\n",
       "        vertical-align: middle;\n",
       "    }\n",
       "\n",
       "    .dataframe tbody tr th {\n",
       "        vertical-align: top;\n",
       "    }\n",
       "\n",
       "    .dataframe thead th {\n",
       "        text-align: right;\n",
       "    }\n",
       "</style>\n",
       "<table border=\"1\" class=\"dataframe\">\n",
       "  <thead>\n",
       "    <tr style=\"text-align: right;\">\n",
       "      <th></th>\n",
       "      <th>Year</th>\n",
       "      <th>Subscribers</th>\n",
       "    </tr>\n",
       "  </thead>\n",
       "  <tbody>\n",
       "    <tr>\n",
       "      <th>0</th>\n",
       "      <td>2011</td>\n",
       "      <td>21.5</td>\n",
       "    </tr>\n",
       "    <tr>\n",
       "      <th>1</th>\n",
       "      <td>2012</td>\n",
       "      <td>25.7</td>\n",
       "    </tr>\n",
       "    <tr>\n",
       "      <th>2</th>\n",
       "      <td>2013</td>\n",
       "      <td>35.6</td>\n",
       "    </tr>\n",
       "    <tr>\n",
       "      <th>3</th>\n",
       "      <td>2014</td>\n",
       "      <td>47.9</td>\n",
       "    </tr>\n",
       "    <tr>\n",
       "      <th>4</th>\n",
       "      <td>2015</td>\n",
       "      <td>62.7</td>\n",
       "    </tr>\n",
       "    <tr>\n",
       "      <th>5</th>\n",
       "      <td>2016</td>\n",
       "      <td>79.9</td>\n",
       "    </tr>\n",
       "    <tr>\n",
       "      <th>6</th>\n",
       "      <td>2017</td>\n",
       "      <td>99.0</td>\n",
       "    </tr>\n",
       "    <tr>\n",
       "      <th>7</th>\n",
       "      <td>2018</td>\n",
       "      <td>124.3</td>\n",
       "    </tr>\n",
       "    <tr>\n",
       "      <th>8</th>\n",
       "      <td>2019</td>\n",
       "      <td>151.5</td>\n",
       "    </tr>\n",
       "    <tr>\n",
       "      <th>9</th>\n",
       "      <td>2020</td>\n",
       "      <td>192.9</td>\n",
       "    </tr>\n",
       "  </tbody>\n",
       "</table>\n",
       "</div>"
      ],
      "text/plain": [
       "   Year  Subscribers\n",
       "0  2011         21.5\n",
       "1  2012         25.7\n",
       "2  2013         35.6\n",
       "3  2014         47.9\n",
       "4  2015         62.7\n",
       "5  2016         79.9\n",
       "6  2017         99.0\n",
       "7  2018        124.3\n",
       "8  2019        151.5\n",
       "9  2020        192.9"
      ]
     },
     "execution_count": 4,
     "metadata": {},
     "output_type": "execute_result"
    }
   ],
   "source": [
    "df_subscribers"
   ]
  },
  {
   "cell_type": "code",
   "execution_count": 5,
   "id": "7e313d52",
   "metadata": {},
   "outputs": [
    {
     "data": {
      "text/html": [
       "<div>\n",
       "<style scoped>\n",
       "    .dataframe tbody tr th:only-of-type {\n",
       "        vertical-align: middle;\n",
       "    }\n",
       "\n",
       "    .dataframe tbody tr th {\n",
       "        vertical-align: top;\n",
       "    }\n",
       "\n",
       "    .dataframe thead th {\n",
       "        text-align: right;\n",
       "    }\n",
       "</style>\n",
       "<table border=\"1\" class=\"dataframe\">\n",
       "  <thead>\n",
       "    <tr style=\"text-align: right;\">\n",
       "      <th></th>\n",
       "      <th>Year</th>\n",
       "      <th>Revenue</th>\n",
       "    </tr>\n",
       "  </thead>\n",
       "  <tbody>\n",
       "    <tr>\n",
       "      <th>0</th>\n",
       "      <td>2011</td>\n",
       "      <td>3.1</td>\n",
       "    </tr>\n",
       "    <tr>\n",
       "      <th>1</th>\n",
       "      <td>2012</td>\n",
       "      <td>3.5</td>\n",
       "    </tr>\n",
       "    <tr>\n",
       "      <th>2</th>\n",
       "      <td>2013</td>\n",
       "      <td>4.3</td>\n",
       "    </tr>\n",
       "    <tr>\n",
       "      <th>3</th>\n",
       "      <td>2014</td>\n",
       "      <td>5.4</td>\n",
       "    </tr>\n",
       "    <tr>\n",
       "      <th>4</th>\n",
       "      <td>2015</td>\n",
       "      <td>6.7</td>\n",
       "    </tr>\n",
       "    <tr>\n",
       "      <th>5</th>\n",
       "      <td>2016</td>\n",
       "      <td>8.8</td>\n",
       "    </tr>\n",
       "    <tr>\n",
       "      <th>6</th>\n",
       "      <td>2017</td>\n",
       "      <td>11.6</td>\n",
       "    </tr>\n",
       "    <tr>\n",
       "      <th>7</th>\n",
       "      <td>2018</td>\n",
       "      <td>15.7</td>\n",
       "    </tr>\n",
       "    <tr>\n",
       "      <th>8</th>\n",
       "      <td>2019</td>\n",
       "      <td>20.1</td>\n",
       "    </tr>\n",
       "    <tr>\n",
       "      <th>9</th>\n",
       "      <td>2020</td>\n",
       "      <td>24.9</td>\n",
       "    </tr>\n",
       "  </tbody>\n",
       "</table>\n",
       "</div>"
      ],
      "text/plain": [
       "   Year  Revenue\n",
       "0  2011      3.1\n",
       "1  2012      3.5\n",
       "2  2013      4.3\n",
       "3  2014      5.4\n",
       "4  2015      6.7\n",
       "5  2016      8.8\n",
       "6  2017     11.6\n",
       "7  2018     15.7\n",
       "8  2019     20.1\n",
       "9  2020     24.9"
      ]
     },
     "execution_count": 5,
     "metadata": {},
     "output_type": "execute_result"
    }
   ],
   "source": [
    "df_revenue"
   ]
  },
  {
   "cell_type": "code",
   "execution_count": 6,
   "id": "a456890f",
   "metadata": {},
   "outputs": [
    {
     "data": {
      "text/html": [
       "<div>\n",
       "<style scoped>\n",
       "    .dataframe tbody tr th:only-of-type {\n",
       "        vertical-align: middle;\n",
       "    }\n",
       "\n",
       "    .dataframe tbody tr th {\n",
       "        vertical-align: top;\n",
       "    }\n",
       "\n",
       "    .dataframe thead th {\n",
       "        text-align: right;\n",
       "    }\n",
       "</style>\n",
       "<table border=\"1\" class=\"dataframe\">\n",
       "  <thead>\n",
       "    <tr style=\"text-align: right;\">\n",
       "      <th></th>\n",
       "      <th>Year</th>\n",
       "      <th>Content_spend</th>\n",
       "    </tr>\n",
       "  </thead>\n",
       "  <tbody>\n",
       "    <tr>\n",
       "      <th>0</th>\n",
       "      <td>2016</td>\n",
       "      <td>6.88</td>\n",
       "    </tr>\n",
       "    <tr>\n",
       "      <th>1</th>\n",
       "      <td>2017</td>\n",
       "      <td>8.91</td>\n",
       "    </tr>\n",
       "    <tr>\n",
       "      <th>2</th>\n",
       "      <td>2018</td>\n",
       "      <td>12.00</td>\n",
       "    </tr>\n",
       "    <tr>\n",
       "      <th>3</th>\n",
       "      <td>2019</td>\n",
       "      <td>13.90</td>\n",
       "    </tr>\n",
       "    <tr>\n",
       "      <th>4</th>\n",
       "      <td>2020</td>\n",
       "      <td>11.80</td>\n",
       "    </tr>\n",
       "    <tr>\n",
       "      <th>5</th>\n",
       "      <td>2021</td>\n",
       "      <td>17.00</td>\n",
       "    </tr>\n",
       "  </tbody>\n",
       "</table>\n",
       "</div>"
      ],
      "text/plain": [
       "   Year  Content_spend\n",
       "0  2016           6.88\n",
       "1  2017           8.91\n",
       "2  2018          12.00\n",
       "3  2019          13.90\n",
       "4  2020          11.80\n",
       "5  2021          17.00"
      ]
     },
     "execution_count": 6,
     "metadata": {},
     "output_type": "execute_result"
    }
   ],
   "source": [
    "df_ContentSpend"
   ]
  },
  {
   "cell_type": "markdown",
   "id": "fee15707",
   "metadata": {},
   "source": [
    "# VISUALIZE DATSET"
   ]
  },
  {
   "cell_type": "code",
   "execution_count": 7,
   "id": "c44928fe",
   "metadata": {},
   "outputs": [
    {
     "data": {
      "image/png": "[encoded data removed]",
      "text/plain": [
       "<Figure size 1080x504 with 1 Axes>"
      ]
     },
     "metadata": {
      "needs_background": "light"
     },
     "output_type": "display_data"
    }
   ],
   "source": [
    "#understanding the trend of Revenue over the years, profit and content spend\n",
    "x1 = df_profit['Year'].values\n",
    "y1 = df_profit['Profit'].values\n",
    "\n",
    "x2=df_subscribers['Year'].values\n",
    "y2=df_subscribers['Subscribers'].values\n",
    "\n",
    "x3=df_revenue['Year'].values\n",
    "y3=df_revenue['Revenue'].values\n",
    "\n",
    "x4=df_ContentSpend['Year'].values\n",
    "y4=df_ContentSpend['Content_spend'].values\n",
    "\n",
    "plt.rcParams[\"figure.figsize\"] = (15,7)\n",
    "\n",
    "plt.plot(x1, y1, 'red', label='Profit',  marker='o', linestyle='-', linewidth='1')\n",
    "#plt.plot(x2, y2, 'blue', label='Subscribers')\n",
    "plt.plot(x3, y3, 'green', label='Revenue',  marker='o', linestyle='-', linewidth='1')\n",
    "plt.plot(x4, y4, 'black', label='Content Spend',  marker='o', linestyle='-', linewidth='1')\n",
    "\n",
    "plt.grid()\n",
    "plt.xlabel('YEARS', fontweight=\"bold\")\n",
    "plt.ylabel('in Million Dollars', fontweight=\"bold\")\n",
    "plt.title('Revenue, Profit and Content Spend over the years', fontweight=\"bold\")\n",
    "plt.legend()\n",
    "plt.show()"
   ]
  },
  {
   "cell_type": "code",
   "execution_count": 8,
   "id": "00328b82",
   "metadata": {},
   "outputs": [
    {
     "data": {
      "image/png": "[encoded data removed]",
      "text/plain": [
       "<Figure size 1080x504 with 1 Axes>"
      ]
     },
     "metadata": {
      "needs_background": "light"
     },
     "output_type": "display_data"
    }
   ],
   "source": [
    "#understanding the trend of Revenue wrt # of Subscribers\n",
    "x5=df_subscribers['Year'].values\n",
    "y5=df_subscribers['Subscribers'].values\n",
    "\n",
    "plt.rcParams[\"figure.figsize\"] = (15,7)\n",
    "\n",
    "plt.plot(x5, y5, 'black', label='Subscribers', marker='o', linestyle='-', linewidth='1')\n",
    "\n",
    "plt.grid()\n",
    "plt.xlabel('YEARS', fontweight=\"bold\")\n",
    "plt.ylabel('#of Subscribers', fontweight=\"bold\")\n",
    "plt.title('Subscribers over the years', fontweight=\"bold\")\n",
    "plt.legend()\n",
    "plt.show()"
   ]
  },
  {
   "cell_type": "code",
   "execution_count": 9,
   "id": "c92de955",
   "metadata": {},
   "outputs": [],
   "source": [
    "df_new = pd.merge(pd.merge(df_profit,df_revenue,on='Year'),df_subscribers,on='Year', how='right')\n",
    "df_new1 = pd.merge(df_new, df_ContentSpend, on='Year', how='outer')"
   ]
  },
  {
   "cell_type": "code",
   "execution_count": 10,
   "id": "c934b7ad",
   "metadata": {},
   "outputs": [
    {
     "data": {
      "image/png": "[encoded data removed]",
      "text/plain": [
       "<Figure size 720x360 with 1 Axes>"
      ]
     },
     "metadata": {
      "needs_background": "light"
     },
     "output_type": "display_data"
    }
   ],
   "source": [
    "# developing a histogram using DISPLOT\n",
    "sns.displot(data   = df_new1,\n",
    "            x      = 'Revenue',\n",
    "            height = 5,\n",
    "            aspect = 2)\n",
    "\n",
    "\n",
    "plt.show()"
   ]
  },
  {
   "cell_type": "code",
   "execution_count": 11,
   "id": "abe8c507",
   "metadata": {},
   "outputs": [
    {
     "data": {
      "text/plain": [
       "<seaborn.axisgrid.FacetGrid at 0x2d69d675f70>"
      ]
     },
     "execution_count": 11,
     "metadata": {},
     "output_type": "execute_result"
    },
    {
     "data": {
      "image/png": "[encoded data removed]",
      "text/plain": [
       "<Figure size 360x360 with 1 Axes>"
      ]
     },
     "metadata": {
      "needs_background": "light"
     },
     "output_type": "display_data"
    }
   ],
   "source": [
    "sns.lmplot(x='Year', y='Revenue', data=df_new1)"
   ]
  },
  {
   "cell_type": "code",
   "execution_count": 12,
   "id": "aeea6221",
   "metadata": {},
   "outputs": [
    {
     "data": {
      "text/plain": [
       "<seaborn.axisgrid.FacetGrid at 0x2d69db47190>"
      ]
     },
     "execution_count": 12,
     "metadata": {},
     "output_type": "execute_result"
    },
    {
     "data": {
      "image/png": "[encoded data removed]",
      "text/plain": [
       "<Figure size 360x360 with 1 Axes>"
      ]
     },
     "metadata": {
      "needs_background": "light"
     },
     "output_type": "display_data"
    }
   ],
   "source": [
    "sns.lmplot(x='Subscribers', y='Revenue', data=df_new1)"
   ]
  },
  {
   "cell_type": "code",
   "execution_count": 13,
   "id": "54ff708e",
   "metadata": {},
   "outputs": [
    {
     "data": {
      "text/plain": [
       "<seaborn.axisgrid.FacetGrid at 0x2d69e488c10>"
      ]
     },
     "execution_count": 13,
     "metadata": {},
     "output_type": "execute_result"
    },
    {
     "data": {
      "image/png": "[encoded data removed]",
      "text/plain": [
       "<Figure size 360x360 with 1 Axes>"
      ]
     },
     "metadata": {
      "needs_background": "light"
     },
     "output_type": "display_data"
    }
   ],
   "source": [
    "sns.lmplot(x='Content_spend', y='Revenue', data=df_new1)"
   ]
  },
  {
   "cell_type": "code",
   "execution_count": 14,
   "id": "c1b27b75",
   "metadata": {},
   "outputs": [
    {
     "data": {
      "text/plain": [
       "<seaborn.axisgrid.FacetGrid at 0x2d69e4faf10>"
      ]
     },
     "execution_count": 14,
     "metadata": {},
     "output_type": "execute_result"
    },
    {
     "data": {
      "image/png": "[encoded data removed]",
      "text/plain": [
       "<Figure size 360x360 with 1 Axes>"
      ]
     },
     "metadata": {
      "needs_background": "light"
     },
     "output_type": "display_data"
    }
   ],
   "source": [
    "sns.lmplot(x='Profit', y='Revenue', data=df_new1)"
   ]
  },
  {
   "cell_type": "markdown",
   "id": "00bfc789",
   "metadata": {},
   "source": [
    "# MISSING VALUE ANALYSIS AND IMPUTATION"
   ]
  },
  {
   "cell_type": "code",
   "execution_count": 15,
   "id": "ae3dce02",
   "metadata": {},
   "outputs": [
    {
     "data": {
      "text/html": [
       "<div>\n",
       "<style scoped>\n",
       "    .dataframe tbody tr th:only-of-type {\n",
       "        vertical-align: middle;\n",
       "    }\n",
       "\n",
       "    .dataframe tbody tr th {\n",
       "        vertical-align: top;\n",
       "    }\n",
       "\n",
       "    .dataframe thead th {\n",
       "        text-align: right;\n",
       "    }\n",
       "</style>\n",
       "<table border=\"1\" class=\"dataframe\">\n",
       "  <thead>\n",
       "    <tr style=\"text-align: right;\">\n",
       "      <th></th>\n",
       "      <th>Year</th>\n",
       "      <th>Profit</th>\n",
       "      <th>Revenue</th>\n",
       "      <th>Subscribers</th>\n",
       "      <th>Content_spend</th>\n",
       "    </tr>\n",
       "  </thead>\n",
       "  <tbody>\n",
       "    <tr>\n",
       "      <th>0</th>\n",
       "      <td>False</td>\n",
       "      <td>True</td>\n",
       "      <td>True</td>\n",
       "      <td>False</td>\n",
       "      <td>True</td>\n",
       "    </tr>\n",
       "    <tr>\n",
       "      <th>1</th>\n",
       "      <td>False</td>\n",
       "      <td>False</td>\n",
       "      <td>False</td>\n",
       "      <td>False</td>\n",
       "      <td>True</td>\n",
       "    </tr>\n",
       "    <tr>\n",
       "      <th>2</th>\n",
       "      <td>False</td>\n",
       "      <td>False</td>\n",
       "      <td>False</td>\n",
       "      <td>False</td>\n",
       "      <td>True</td>\n",
       "    </tr>\n",
       "    <tr>\n",
       "      <th>3</th>\n",
       "      <td>False</td>\n",
       "      <td>False</td>\n",
       "      <td>False</td>\n",
       "      <td>False</td>\n",
       "      <td>True</td>\n",
       "    </tr>\n",
       "    <tr>\n",
       "      <th>4</th>\n",
       "      <td>False</td>\n",
       "      <td>False</td>\n",
       "      <td>False</td>\n",
       "      <td>False</td>\n",
       "      <td>True</td>\n",
       "    </tr>\n",
       "    <tr>\n",
       "      <th>5</th>\n",
       "      <td>False</td>\n",
       "      <td>False</td>\n",
       "      <td>False</td>\n",
       "      <td>False</td>\n",
       "      <td>False</td>\n",
       "    </tr>\n",
       "    <tr>\n",
       "      <th>6</th>\n",
       "      <td>False</td>\n",
       "      <td>False</td>\n",
       "      <td>False</td>\n",
       "      <td>False</td>\n",
       "      <td>False</td>\n",
       "    </tr>\n",
       "    <tr>\n",
       "      <th>7</th>\n",
       "      <td>False</td>\n",
       "      <td>False</td>\n",
       "      <td>False</td>\n",
       "      <td>False</td>\n",
       "      <td>False</td>\n",
       "    </tr>\n",
       "    <tr>\n",
       "      <th>8</th>\n",
       "      <td>False</td>\n",
       "      <td>False</td>\n",
       "      <td>False</td>\n",
       "      <td>False</td>\n",
       "      <td>False</td>\n",
       "    </tr>\n",
       "    <tr>\n",
       "      <th>9</th>\n",
       "      <td>False</td>\n",
       "      <td>False</td>\n",
       "      <td>False</td>\n",
       "      <td>False</td>\n",
       "      <td>False</td>\n",
       "    </tr>\n",
       "    <tr>\n",
       "      <th>10</th>\n",
       "      <td>False</td>\n",
       "      <td>True</td>\n",
       "      <td>True</td>\n",
       "      <td>True</td>\n",
       "      <td>False</td>\n",
       "    </tr>\n",
       "  </tbody>\n",
       "</table>\n",
       "</div>"
      ],
      "text/plain": [
       "     Year  Profit  Revenue  Subscribers  Content_spend\n",
       "0   False    True     True        False           True\n",
       "1   False   False    False        False           True\n",
       "2   False   False    False        False           True\n",
       "3   False   False    False        False           True\n",
       "4   False   False    False        False           True\n",
       "5   False   False    False        False          False\n",
       "6   False   False    False        False          False\n",
       "7   False   False    False        False          False\n",
       "8   False   False    False        False          False\n",
       "9   False   False    False        False          False\n",
       "10  False    True     True         True          False"
      ]
     },
     "execution_count": 15,
     "metadata": {},
     "output_type": "execute_result"
    }
   ],
   "source": [
    "df_new1.isnull()"
   ]
  },
  {
   "cell_type": "code",
   "execution_count": 16,
   "id": "28805b0a",
   "metadata": {},
   "outputs": [
    {
     "data": {
      "text/html": [
       "<div>\n",
       "<style scoped>\n",
       "    .dataframe tbody tr th:only-of-type {\n",
       "        vertical-align: middle;\n",
       "    }\n",
       "\n",
       "    .dataframe tbody tr th {\n",
       "        vertical-align: top;\n",
       "    }\n",
       "\n",
       "    .dataframe thead th {\n",
       "        text-align: right;\n",
       "    }\n",
       "</style>\n",
       "<table border=\"1\" class=\"dataframe\">\n",
       "  <thead>\n",
       "    <tr style=\"text-align: right;\">\n",
       "      <th></th>\n",
       "      <th>Year</th>\n",
       "      <th>Profit</th>\n",
       "      <th>Revenue</th>\n",
       "      <th>Subscribers</th>\n",
       "      <th>Content_spend</th>\n",
       "    </tr>\n",
       "  </thead>\n",
       "  <tbody>\n",
       "    <tr>\n",
       "      <th>0</th>\n",
       "      <td>2011</td>\n",
       "      <td>NaN</td>\n",
       "      <td>NaN</td>\n",
       "      <td>21.5</td>\n",
       "      <td>NaN</td>\n",
       "    </tr>\n",
       "    <tr>\n",
       "      <th>1</th>\n",
       "      <td>2012</td>\n",
       "      <td>0.050</td>\n",
       "      <td>3.5</td>\n",
       "      <td>25.7</td>\n",
       "      <td>NaN</td>\n",
       "    </tr>\n",
       "    <tr>\n",
       "      <th>2</th>\n",
       "      <td>2013</td>\n",
       "      <td>0.228</td>\n",
       "      <td>4.3</td>\n",
       "      <td>35.6</td>\n",
       "      <td>NaN</td>\n",
       "    </tr>\n",
       "    <tr>\n",
       "      <th>3</th>\n",
       "      <td>2014</td>\n",
       "      <td>0.403</td>\n",
       "      <td>5.4</td>\n",
       "      <td>47.9</td>\n",
       "      <td>NaN</td>\n",
       "    </tr>\n",
       "    <tr>\n",
       "      <th>4</th>\n",
       "      <td>2015</td>\n",
       "      <td>0.306</td>\n",
       "      <td>6.7</td>\n",
       "      <td>62.7</td>\n",
       "      <td>NaN</td>\n",
       "    </tr>\n",
       "    <tr>\n",
       "      <th>5</th>\n",
       "      <td>2016</td>\n",
       "      <td>0.379</td>\n",
       "      <td>8.8</td>\n",
       "      <td>79.9</td>\n",
       "      <td>6.88</td>\n",
       "    </tr>\n",
       "    <tr>\n",
       "      <th>6</th>\n",
       "      <td>2017</td>\n",
       "      <td>0.839</td>\n",
       "      <td>11.6</td>\n",
       "      <td>99.0</td>\n",
       "      <td>8.91</td>\n",
       "    </tr>\n",
       "    <tr>\n",
       "      <th>7</th>\n",
       "      <td>2018</td>\n",
       "      <td>1.600</td>\n",
       "      <td>15.7</td>\n",
       "      <td>124.3</td>\n",
       "      <td>12.00</td>\n",
       "    </tr>\n",
       "    <tr>\n",
       "      <th>8</th>\n",
       "      <td>2019</td>\n",
       "      <td>2.600</td>\n",
       "      <td>20.1</td>\n",
       "      <td>151.5</td>\n",
       "      <td>13.90</td>\n",
       "    </tr>\n",
       "    <tr>\n",
       "      <th>9</th>\n",
       "      <td>2020</td>\n",
       "      <td>4.500</td>\n",
       "      <td>24.9</td>\n",
       "      <td>192.9</td>\n",
       "      <td>11.80</td>\n",
       "    </tr>\n",
       "    <tr>\n",
       "      <th>10</th>\n",
       "      <td>2021</td>\n",
       "      <td>NaN</td>\n",
       "      <td>NaN</td>\n",
       "      <td>NaN</td>\n",
       "      <td>17.00</td>\n",
       "    </tr>\n",
       "  </tbody>\n",
       "</table>\n",
       "</div>"
      ],
      "text/plain": [
       "    Year  Profit  Revenue  Subscribers  Content_spend\n",
       "0   2011     NaN      NaN         21.5            NaN\n",
       "1   2012   0.050      3.5         25.7            NaN\n",
       "2   2013   0.228      4.3         35.6            NaN\n",
       "3   2014   0.403      5.4         47.9            NaN\n",
       "4   2015   0.306      6.7         62.7            NaN\n",
       "5   2016   0.379      8.8         79.9           6.88\n",
       "6   2017   0.839     11.6         99.0           8.91\n",
       "7   2018   1.600     15.7        124.3          12.00\n",
       "8   2019   2.600     20.1        151.5          13.90\n",
       "9   2020   4.500     24.9        192.9          11.80\n",
       "10  2021     NaN      NaN          NaN          17.00"
      ]
     },
     "execution_count": 16,
     "metadata": {},
     "output_type": "execute_result"
    }
   ],
   "source": [
    "df_new1"
   ]
  },
  {
   "cell_type": "code",
   "execution_count": 17,
   "id": "4aaa39e1",
   "metadata": {},
   "outputs": [
    {
     "name": "stdout",
     "output_type": "stream",
     "text": [
      "SimpleImputer(strategy='median')\n"
     ]
    },
    {
     "data": {
      "text/html": [
       "<div>\n",
       "<style scoped>\n",
       "    .dataframe tbody tr th:only-of-type {\n",
       "        vertical-align: middle;\n",
       "    }\n",
       "\n",
       "    .dataframe tbody tr th {\n",
       "        vertical-align: top;\n",
       "    }\n",
       "\n",
       "    .dataframe thead th {\n",
       "        text-align: right;\n",
       "    }\n",
       "</style>\n",
       "<table border=\"1\" class=\"dataframe\">\n",
       "  <thead>\n",
       "    <tr style=\"text-align: right;\">\n",
       "      <th></th>\n",
       "      <th>Year</th>\n",
       "      <th>Profit</th>\n",
       "      <th>Revenue</th>\n",
       "      <th>Subscribers</th>\n",
       "      <th>Content_spend</th>\n",
       "    </tr>\n",
       "  </thead>\n",
       "  <tbody>\n",
       "    <tr>\n",
       "      <th>0</th>\n",
       "      <td>2011</td>\n",
       "      <td>0.403</td>\n",
       "      <td>8.8</td>\n",
       "      <td>21.5</td>\n",
       "      <td>11.90</td>\n",
       "    </tr>\n",
       "    <tr>\n",
       "      <th>1</th>\n",
       "      <td>2012</td>\n",
       "      <td>0.050</td>\n",
       "      <td>3.5</td>\n",
       "      <td>25.7</td>\n",
       "      <td>11.90</td>\n",
       "    </tr>\n",
       "    <tr>\n",
       "      <th>2</th>\n",
       "      <td>2013</td>\n",
       "      <td>0.228</td>\n",
       "      <td>4.3</td>\n",
       "      <td>35.6</td>\n",
       "      <td>11.90</td>\n",
       "    </tr>\n",
       "    <tr>\n",
       "      <th>3</th>\n",
       "      <td>2014</td>\n",
       "      <td>0.403</td>\n",
       "      <td>5.4</td>\n",
       "      <td>47.9</td>\n",
       "      <td>11.90</td>\n",
       "    </tr>\n",
       "    <tr>\n",
       "      <th>4</th>\n",
       "      <td>2015</td>\n",
       "      <td>0.306</td>\n",
       "      <td>6.7</td>\n",
       "      <td>62.7</td>\n",
       "      <td>11.90</td>\n",
       "    </tr>\n",
       "    <tr>\n",
       "      <th>5</th>\n",
       "      <td>2016</td>\n",
       "      <td>0.379</td>\n",
       "      <td>8.8</td>\n",
       "      <td>79.9</td>\n",
       "      <td>6.88</td>\n",
       "    </tr>\n",
       "    <tr>\n",
       "      <th>6</th>\n",
       "      <td>2017</td>\n",
       "      <td>0.839</td>\n",
       "      <td>11.6</td>\n",
       "      <td>99.0</td>\n",
       "      <td>8.91</td>\n",
       "    </tr>\n",
       "    <tr>\n",
       "      <th>7</th>\n",
       "      <td>2018</td>\n",
       "      <td>1.600</td>\n",
       "      <td>15.7</td>\n",
       "      <td>124.3</td>\n",
       "      <td>12.00</td>\n",
       "    </tr>\n",
       "    <tr>\n",
       "      <th>8</th>\n",
       "      <td>2019</td>\n",
       "      <td>2.600</td>\n",
       "      <td>20.1</td>\n",
       "      <td>151.5</td>\n",
       "      <td>13.90</td>\n",
       "    </tr>\n",
       "    <tr>\n",
       "      <th>9</th>\n",
       "      <td>2020</td>\n",
       "      <td>4.500</td>\n",
       "      <td>24.9</td>\n",
       "      <td>192.9</td>\n",
       "      <td>11.80</td>\n",
       "    </tr>\n",
       "    <tr>\n",
       "      <th>10</th>\n",
       "      <td>2021</td>\n",
       "      <td>0.403</td>\n",
       "      <td>8.8</td>\n",
       "      <td>71.3</td>\n",
       "      <td>17.00</td>\n",
       "    </tr>\n",
       "  </tbody>\n",
       "</table>\n",
       "</div>"
      ],
      "text/plain": [
       "    Year  Profit  Revenue  Subscribers  Content_spend\n",
       "0   2011   0.403      8.8         21.5          11.90\n",
       "1   2012   0.050      3.5         25.7          11.90\n",
       "2   2013   0.228      4.3         35.6          11.90\n",
       "3   2014   0.403      5.4         47.9          11.90\n",
       "4   2015   0.306      6.7         62.7          11.90\n",
       "5   2016   0.379      8.8         79.9           6.88\n",
       "6   2017   0.839     11.6         99.0           8.91\n",
       "7   2018   1.600     15.7        124.3          12.00\n",
       "8   2019   2.600     20.1        151.5          13.90\n",
       "9   2020   4.500     24.9        192.9          11.80\n",
       "10  2021   0.403      8.8         71.3          17.00"
      ]
     },
     "execution_count": 17,
     "metadata": {},
     "output_type": "execute_result"
    }
   ],
   "source": [
    "## Replace all NaN values with 0\n",
    "#df_new2= df_new1.fillna(0)\n",
    "#df_new2\n",
    "df_new2=df_new1\n",
    "from sklearn.impute import SimpleImputer\n",
    "imputer = SimpleImputer(missing_values=np.NaN, strategy='median')\n",
    "print(imputer)\n",
    "df_new2.Profit = imputer.fit_transform(df_new2['Profit'].values.reshape(-1,1))\n",
    "df_new2.Revenue = imputer.fit_transform(df_new2['Revenue'].values.reshape(-1,1))\n",
    "df_new2.Subscribers = imputer.fit_transform(df_new2['Subscribers'].values.reshape(-1,1))\n",
    "df_new2.Content_spend = imputer.fit_transform(df_new2['Content_spend'].values.reshape(-1,1))\n",
    "df_new2"
   ]
  },
  {
   "cell_type": "markdown",
   "id": "17a16a20",
   "metadata": {},
   "source": [
    "# Understand the relationship between variables"
   ]
  },
  {
   "cell_type": "code",
   "execution_count": 18,
   "id": "804dd4f2",
   "metadata": {},
   "outputs": [
    {
     "data": {
      "text/plain": [
       "<seaborn.axisgrid.PairGrid at 0x2d69f927be0>"
      ]
     },
     "execution_count": 18,
     "metadata": {},
     "output_type": "execute_result"
    },
    {
     "data": {
      "image/png": "[encoded data removed]",
      "text/plain": [
       "<Figure size 900x900 with 30 Axes>"
      ]
     },
     "metadata": {
      "needs_background": "light"
     },
     "output_type": "display_data"
    }
   ],
   "source": [
    "sns.pairplot(df_new2)"
   ]
  },
  {
   "cell_type": "markdown",
   "id": "9c7ee273",
   "metadata": {},
   "source": [
    "# OLS results interpretation"
   ]
  },
  {
   "cell_type": "code",
   "execution_count": 19,
   "id": "940d6cee",
   "metadata": {},
   "outputs": [
    {
     "name": "stdout",
     "output_type": "stream",
     "text": [
      "                            OLS Regression Results                            \n",
      "==============================================================================\n",
      "Dep. Variable:                Revenue   R-squared:                       0.951\n",
      "Model:                            OLS   Adj. R-squared:                  0.919\n",
      "Method:                 Least Squares   F-statistic:                     29.37\n",
      "Date:                Tue, 29 Nov 2022   Prob (F-statistic):           0.000442\n",
      "Time:                        22:31:32   Log-Likelihood:                -19.549\n",
      "No. Observations:                  11   AIC:                             49.10\n",
      "Df Residuals:                       6   BIC:                             51.09\n",
      "Df Model:                           4                                         \n",
      "Covariance Type:            nonrobust                                         \n",
      "=================================================================================\n",
      "                    coef    std err          t      P>|t|      [0.025      0.975]\n",
      "---------------------------------------------------------------------------------\n",
      "const           513.1137   1205.304      0.426      0.685   -2436.158    3462.385\n",
      "Year             -0.2550      0.602     -0.424      0.686      -1.727       1.217\n",
      "Subscribers       0.0908      0.072      1.266      0.252      -0.085       0.266\n",
      "Profit            1.7554      1.979      0.887      0.409      -3.087       6.598\n",
      "Content_spend     0.1979      0.399      0.496      0.638      -0.779       1.174\n",
      "==============================================================================\n",
      "Omnibus:                        4.600   Durbin-Watson:                   1.356\n",
      "Prob(Omnibus):                  0.100   Jarque-Bera (JB):                1.808\n",
      "Skew:                           0.959   Prob(JB):                        0.405\n",
      "Kurtosis:                       3.513   Cond. No.                     4.16e+06\n",
      "==============================================================================\n",
      "\n",
      "Notes:\n",
      "[1] Standard Errors assume that the covariance matrix of the errors is correctly specified.\n",
      "[2] The condition number is large, 4.16e+06. This might indicate that there are\n",
      "strong multicollinearity or other numerical problems.\n"
     ]
    },
    {
     "name": "stderr",
     "output_type": "stream",
     "text": [
      "C:\\Users\\vdp10002\\Anaconda3\\lib\\site-packages\\scipy\\stats\\stats.py:1541: UserWarning: kurtosistest only valid for n>=20 ... continuing anyway, n=11\n",
      "  warnings.warn(\"kurtosistest only valid for n>=20 ... continuing \"\n"
     ]
    }
   ],
   "source": [
    "from sklearn import linear_model\n",
    "import statsmodels.api as sm\n",
    "\n",
    "x = df_new2[['Year','Subscribers','Profit','Content_spend']]\n",
    "y = df_new2['Revenue']\n",
    " \n",
    "# adding a constant as an intercept is not included by default and has to be added manually \n",
    "x = sm.add_constant(x) \n",
    " \n",
    "model = sm.OLS(y, x).fit()\n",
    " \n",
    "print_model = model.summary()\n",
    "print(print_model)"
   ]
  },
  {
   "cell_type": "markdown",
   "id": "4f1b72ed",
   "metadata": {},
   "source": [
    "# Linear Regression Model"
   ]
  },
  {
   "cell_type": "code",
   "execution_count": 20,
   "id": "854b3e21",
   "metadata": {},
   "outputs": [],
   "source": [
    "from sklearn.model_selection import train_test_split\n",
    "from sklearn.linear_model import LinearRegression\n",
    "from sklearn.metrics import mean_squared_error, mean_absolute_error\n",
    "from sklearn import preprocessing\n",
    "from sklearn.metrics import r2_score"
   ]
  },
  {
   "cell_type": "code",
   "execution_count": 21,
   "id": "e8fba93a",
   "metadata": {},
   "outputs": [
    {
     "name": "stdout",
     "output_type": "stream",
     "text": [
      "    Revenue\n",
      "0       8.8\n",
      "1       3.5\n",
      "2       4.3\n",
      "3       5.4\n",
      "4       6.7\n",
      "5       8.8\n",
      "6      11.6\n",
      "7      15.7\n",
      "8      20.1\n",
      "9      24.9\n",
      "10      8.8\n",
      "    Year  Profit  Subscribers  Content_spend\n",
      "0   2011   0.403         21.5          11.90\n",
      "1   2012   0.050         25.7          11.90\n",
      "2   2013   0.228         35.6          11.90\n",
      "3   2014   0.403         47.9          11.90\n",
      "4   2015   0.306         62.7          11.90\n",
      "5   2016   0.379         79.9           6.88\n",
      "6   2017   0.839         99.0           8.91\n",
      "7   2018   1.600        124.3          12.00\n",
      "8   2019   2.600        151.5          13.90\n",
      "9   2020   4.500        192.9          11.80\n",
      "10  2021   0.403         71.3          17.00\n"
     ]
    }
   ],
   "source": [
    "#split features: recognising dependent and independent variables\n",
    "y=df_new2[['Revenue']]\n",
    "print(y)\n",
    "x=df_new2.drop(['Revenue'], axis=1)\n",
    "print(x)"
   ]
  },
  {
   "cell_type": "code",
   "execution_count": 22,
   "id": "243389ff",
   "metadata": {},
   "outputs": [
    {
     "name": "stdout",
     "output_type": "stream",
     "text": [
      "    Year  Profit  Subscribers  Content_spend\n",
      "2   2013   0.228         35.6          11.90\n",
      "3   2014   0.403         47.9          11.90\n",
      "9   2020   4.500        192.9          11.80\n",
      "0   2011   0.403         21.5          11.90\n",
      "6   2017   0.839         99.0           8.91\n",
      "8   2019   2.600        151.5          13.90\n",
      "5   2016   0.379         79.9           6.88\n",
      "10  2021   0.403         71.3          17.00\n"
     ]
    }
   ],
   "source": [
    "#preparing training and test dataset\n",
    "x_train, x_test, y_train, y_test = train_test_split(x, y, test_size=0.25)\n",
    "x_train.shape\n",
    "print(x_train)"
   ]
  },
  {
   "cell_type": "code",
   "execution_count": 23,
   "id": "21aefb61",
   "metadata": {},
   "outputs": [
    {
     "data": {
      "text/html": [
       "<div>\n",
       "<style scoped>\n",
       "    .dataframe tbody tr th:only-of-type {\n",
       "        vertical-align: middle;\n",
       "    }\n",
       "\n",
       "    .dataframe tbody tr th {\n",
       "        vertical-align: top;\n",
       "    }\n",
       "\n",
       "    .dataframe thead th {\n",
       "        text-align: right;\n",
       "    }\n",
       "</style>\n",
       "<table border=\"1\" class=\"dataframe\">\n",
       "  <thead>\n",
       "    <tr style=\"text-align: right;\">\n",
       "      <th></th>\n",
       "      <th>Year</th>\n",
       "      <th>Profit</th>\n",
       "      <th>Subscribers</th>\n",
       "      <th>Content_spend</th>\n",
       "    </tr>\n",
       "  </thead>\n",
       "  <tbody>\n",
       "    <tr>\n",
       "      <th>4</th>\n",
       "      <td>2015</td>\n",
       "      <td>0.306</td>\n",
       "      <td>62.7</td>\n",
       "      <td>11.9</td>\n",
       "    </tr>\n",
       "    <tr>\n",
       "      <th>7</th>\n",
       "      <td>2018</td>\n",
       "      <td>1.600</td>\n",
       "      <td>124.3</td>\n",
       "      <td>12.0</td>\n",
       "    </tr>\n",
       "    <tr>\n",
       "      <th>1</th>\n",
       "      <td>2012</td>\n",
       "      <td>0.050</td>\n",
       "      <td>25.7</td>\n",
       "      <td>11.9</td>\n",
       "    </tr>\n",
       "  </tbody>\n",
       "</table>\n",
       "</div>"
      ],
      "text/plain": [
       "   Year  Profit  Subscribers  Content_spend\n",
       "4  2015   0.306         62.7           11.9\n",
       "7  2018   1.600        124.3           12.0\n",
       "1  2012   0.050         25.7           11.9"
      ]
     },
     "execution_count": 23,
     "metadata": {},
     "output_type": "execute_result"
    }
   ],
   "source": [
    "x_test"
   ]
  },
  {
   "cell_type": "code",
   "execution_count": 24,
   "id": "185a694f",
   "metadata": {},
   "outputs": [
    {
     "data": {
      "text/html": [
       "<div>\n",
       "<style scoped>\n",
       "    .dataframe tbody tr th:only-of-type {\n",
       "        vertical-align: middle;\n",
       "    }\n",
       "\n",
       "    .dataframe tbody tr th {\n",
       "        vertical-align: top;\n",
       "    }\n",
       "\n",
       "    .dataframe thead th {\n",
       "        text-align: right;\n",
       "    }\n",
       "</style>\n",
       "<table border=\"1\" class=\"dataframe\">\n",
       "  <thead>\n",
       "    <tr style=\"text-align: right;\">\n",
       "      <th></th>\n",
       "      <th>Revenue</th>\n",
       "    </tr>\n",
       "  </thead>\n",
       "  <tbody>\n",
       "    <tr>\n",
       "      <th>4</th>\n",
       "      <td>6.7</td>\n",
       "    </tr>\n",
       "    <tr>\n",
       "      <th>7</th>\n",
       "      <td>15.7</td>\n",
       "    </tr>\n",
       "    <tr>\n",
       "      <th>1</th>\n",
       "      <td>3.5</td>\n",
       "    </tr>\n",
       "  </tbody>\n",
       "</table>\n",
       "</div>"
      ],
      "text/plain": [
       "   Revenue\n",
       "4      6.7\n",
       "7     15.7\n",
       "1      3.5"
      ]
     },
     "execution_count": 24,
     "metadata": {},
     "output_type": "execute_result"
    }
   ],
   "source": [
    "y_test"
   ]
  },
  {
   "cell_type": "code",
   "execution_count": 25,
   "id": "fc905b06",
   "metadata": {},
   "outputs": [
    {
     "data": {
      "text/html": [
       "<div>\n",
       "<style scoped>\n",
       "    .dataframe tbody tr th:only-of-type {\n",
       "        vertical-align: middle;\n",
       "    }\n",
       "\n",
       "    .dataframe tbody tr th {\n",
       "        vertical-align: top;\n",
       "    }\n",
       "\n",
       "    .dataframe thead th {\n",
       "        text-align: right;\n",
       "    }\n",
       "</style>\n",
       "<table border=\"1\" class=\"dataframe\">\n",
       "  <thead>\n",
       "    <tr style=\"text-align: right;\">\n",
       "      <th></th>\n",
       "      <th>Revenue</th>\n",
       "    </tr>\n",
       "  </thead>\n",
       "  <tbody>\n",
       "    <tr>\n",
       "      <th>2</th>\n",
       "      <td>4.3</td>\n",
       "    </tr>\n",
       "    <tr>\n",
       "      <th>3</th>\n",
       "      <td>5.4</td>\n",
       "    </tr>\n",
       "    <tr>\n",
       "      <th>9</th>\n",
       "      <td>24.9</td>\n",
       "    </tr>\n",
       "    <tr>\n",
       "      <th>0</th>\n",
       "      <td>8.8</td>\n",
       "    </tr>\n",
       "    <tr>\n",
       "      <th>6</th>\n",
       "      <td>11.6</td>\n",
       "    </tr>\n",
       "    <tr>\n",
       "      <th>8</th>\n",
       "      <td>20.1</td>\n",
       "    </tr>\n",
       "    <tr>\n",
       "      <th>5</th>\n",
       "      <td>8.8</td>\n",
       "    </tr>\n",
       "    <tr>\n",
       "      <th>10</th>\n",
       "      <td>8.8</td>\n",
       "    </tr>\n",
       "  </tbody>\n",
       "</table>\n",
       "</div>"
      ],
      "text/plain": [
       "    Revenue\n",
       "2       4.3\n",
       "3       5.4\n",
       "9      24.9\n",
       "0       8.8\n",
       "6      11.6\n",
       "8      20.1\n",
       "5       8.8\n",
       "10      8.8"
      ]
     },
     "execution_count": 25,
     "metadata": {},
     "output_type": "execute_result"
    }
   ],
   "source": [
    "y_train"
   ]
  },
  {
   "cell_type": "code",
   "execution_count": 26,
   "id": "1c9860c2",
   "metadata": {},
   "outputs": [
    {
     "name": "stdout",
     "output_type": "stream",
     "text": [
      "CPU times: total: 0 ns\n",
      "Wall time: 2 ms\n"
     ]
    },
    {
     "data": {
      "text/plain": [
       "LinearRegression()"
      ]
     },
     "execution_count": 26,
     "metadata": {},
     "output_type": "execute_result"
    }
   ],
   "source": [
    "%%time\n",
    "#instantiating linear regression model and fitting it to the training data\n",
    "LR = LinearRegression()\n",
    "LR.fit(x_train,y_train)"
   ]
  },
  {
   "cell_type": "code",
   "execution_count": 27,
   "id": "beb973ac",
   "metadata": {},
   "outputs": [
    {
     "name": "stdout",
     "output_type": "stream",
     "text": [
      "Intercept (c):  [887.60609464]\n",
      "Coefficient (m):  [[-0.44146596  1.38906515  0.10234273  0.29715788]]\n",
      "LR Testing Score:  0.9041527270851477\n",
      "LR Trainig Score:  0.9524730521774123\n"
     ]
    }
   ],
   "source": [
    "print('Intercept (c): ', LR.intercept_)\n",
    "print('Coefficient (m): ', LR.coef_)\n",
    "#scoring the model based on training and testing data\n",
    "LR_test_score=LR.score(x_test, y_test)\n",
    "LR_train_score=LR.score(x_train, y_train)\n",
    "print('LR Testing Score: ', LR_test_score)\n",
    "print('LR Trainig Score: ', LR_train_score)"
   ]
  },
  {
   "cell_type": "code",
   "execution_count": 28,
   "id": "c18e1232",
   "metadata": {},
   "outputs": [
    {
     "name": "stdout",
     "output_type": "stream",
     "text": [
      "[[ 8.43031193]\n",
      " [15.23739231]\n",
      " [ 5.61242811]]\n"
     ]
    }
   ],
   "source": [
    "#predicting on test data\n",
    "y_predict = LR.predict(x_test)\n",
    "print(y_predict)"
   ]
  },
  {
   "cell_type": "code",
   "execution_count": 29,
   "id": "bb434b35",
   "metadata": {},
   "outputs": [
    {
     "name": "stdout",
     "output_type": "stream",
     "text": [
      "LR mean_sqrd_error is== 2.5567792534886373\n",
      "LR root_mean_squared error of is== 1.598993199950718\n"
     ]
    }
   ],
   "source": [
    "#evaluating Linear Regression model\n",
    "MSE_LR=mean_squared_error(y_test,y_predict)\n",
    "RMSE_LR=np.sqrt(mean_squared_error(y_test,y_predict))\n",
    "print(\"LR mean_sqrd_error is==\", MSE_LR)\n",
    "print(\"LR root_mean_squared error of is==\",RMSE_LR)"
   ]
  },
  {
   "cell_type": "code",
   "execution_count": 30,
   "id": "b2ff1b65",
   "metadata": {},
   "outputs": [
    {
     "name": "stdout",
     "output_type": "stream",
     "text": [
      "Shape of X_Year_TrainingData: (8, 1)\n",
      "[[12.29598145]\n",
      " [ 5.56615147]\n",
      " [13.41761978]]\n",
      "Test Score: 0.5909239486505122\n",
      "Train Score: 0.34682159254801936\n",
      "Linear Model Coefficient (m):  [[1.12163833]]\n",
      "Linear Model Coefficient (b):  [-2251.17017002]\n",
      "mean_sqrd_error is== 20.170176505205415\n"
     ]
    }
   ],
   "source": [
    "#evaluating feature YEAR\n",
    "x_yr=df_new2[['Year']]\n",
    "y_yr=df_new2[['Revenue']]\n",
    "x_yr_train, x_yr_test, y_yr_train, y_yr_test = train_test_split(x_yr, y_yr, test_size=0.25)\n",
    "print('Shape of X_Year_TrainingData:', x_yr_train.shape)\n",
    "LR_yr = LinearRegression()\n",
    "LR_yr.fit(x_yr_train,y_yr_train)\n",
    "y_yr_predict = LR_yr.predict(x_yr_test)\n",
    "print(y_yr_predict)\n",
    "print('Test Score:',LR_yr.score(x_yr_test, y_yr_test))\n",
    "print('Train Score:', LR_yr.score(x_yr_train, y_yr_train))\n",
    "print('Linear Model Coefficient (m): ', LR_yr.coef_)\n",
    "print('Linear Model Coefficient (b): ', LR_yr.intercept_)\n",
    "MSE_LR_yr=mean_squared_error(y_yr_test,y_yr_predict)\n",
    "print(\"mean_sqrd_error is==\", MSE_LR_yr)"
   ]
  },
  {
   "cell_type": "code",
   "execution_count": 31,
   "id": "ba2f8812",
   "metadata": {},
   "outputs": [
    {
     "name": "stdout",
     "output_type": "stream",
     "text": [
      "[[11.33250145]\n",
      " [12.01163664]\n",
      " [10.89434971]]\n",
      "Test Score: 0.014016633999728856\n",
      "Train Score: 0.0037949537333521466\n",
      "Linear Model Coefficient (m):  [[0.21907587]]\n",
      "Linear Model Coefficient (b):  [8.28734688]\n",
      "mean_sqrd_error is== 43.55636296159866\n"
     ]
    }
   ],
   "source": [
    "#evaluating feature CONTENT SPEND\n",
    "x_cont=df_new2[['Content_spend']]\n",
    "y_cont=df_new2[['Revenue']]\n",
    "#print(x_sub)\n",
    "#print(y_sub)\n",
    "x_cont_train, x_cont_test, y_cont_train, y_cont_test = train_test_split(x_cont, y_cont, test_size=0.25)\n",
    "#print('Shape of X_Subscribers_TrainingData:', x_sub_train.shape)\n",
    "#print(x_sub_train)\n",
    "LR_cont = LinearRegression()\n",
    "LR_cont.fit(x_cont_train,y_cont_train)\n",
    "y_cont_predict = LR_cont.predict(x_cont_test)\n",
    "print(y_cont_predict)\n",
    "print('Test Score:',LR_cont.score(x_cont_test, y_cont_test))\n",
    "print('Train Score:', LR_cont.score(x_cont_train, y_cont_train))\n",
    "print('Linear Model Coefficient (m): ', LR_cont.coef_)\n",
    "print('Linear Model Coefficient (b): ', LR_cont.intercept_)\n",
    "MSE_LR_cont=mean_squared_error(y_cont_test,y_cont_predict)\n",
    "print(\"mean_sqrd_error is==\", MSE_LR_cont)"
   ]
  },
  {
   "cell_type": "code",
   "execution_count": 32,
   "id": "ddda6179",
   "metadata": {},
   "outputs": [
    {
     "name": "stdout",
     "output_type": "stream",
     "text": [
      "[[7.53681973]\n",
      " [7.65074992]\n",
      " [6.82000896]]\n",
      "Test Score: 0.31356701329992187\n",
      "Train Score: 0.9229748831552983\n",
      "Linear Model Coefficient (m):  [[4.74709117]]\n",
      "Linear Model Coefficient (b):  [5.73767217]\n",
      "mean_sqrd_error is== 3.0889484401503524\n"
     ]
    }
   ],
   "source": [
    "#evaluating feature PROFIT\n",
    "x_prof=df_new2[['Profit']]\n",
    "y_prof=df_new2[['Revenue']]\n",
    "#print(x_sub)\n",
    "#print(y_sub)\n",
    "x_prof_train, x_prof_test, y_prof_train, y_prof_test = train_test_split(x_prof, y_prof, test_size=0.25)\n",
    "#print('Shape of X_Subscribers_TrainingData:', x_sub_train.shape)\n",
    "#print(x_sub_train)\n",
    "LR_prof = LinearRegression()\n",
    "LR_prof.fit(x_prof_train,y_prof_train)\n",
    "y_prof_predict = LR_prof.predict(x_prof_test)\n",
    "print(y_prof_predict)\n",
    "print('Test Score:',LR_prof.score(x_prof_test, y_prof_test))\n",
    "print('Train Score:', LR_prof.score(x_prof_train, y_prof_train))\n",
    "print('Linear Model Coefficient (m): ', LR_prof.coef_)\n",
    "print('Linear Model Coefficient (b): ', LR_prof.intercept_)\n",
    "MSE_LR_prof=mean_squared_error(y_prof_test,y_prof_predict)\n",
    "print(\"mean_sqrd_error is==\", MSE_LR_prof)"
   ]
  },
  {
   "cell_type": "code",
   "execution_count": 33,
   "id": "959e63a0",
   "metadata": {},
   "outputs": [
    {
     "name": "stdout",
     "output_type": "stream",
     "text": [
      "[[7.39251431]\n",
      " [6.00928999]\n",
      " [9.05688178]]\n",
      "Test Score: -3.31178195960747\n",
      "Train Score: 0.9057944001433338\n",
      "Linear Model Coefficient (m):  [[0.11245726]]\n",
      "Linear Model Coefficient (b):  [2.00581147]\n",
      "mean_sqrd_error is== 4.148892418911189\n"
     ]
    }
   ],
   "source": [
    "#evaluating feature SUBSCRIBER\n",
    "x_sub=df_new2[['Subscribers']]\n",
    "y_sub=df_new2[['Revenue']]\n",
    "#print(x_sub)\n",
    "#print(y_sub)\n",
    "x_sub_train, x_sub_test, y_sub_train, y_sub_test = train_test_split(x_sub, y_sub, test_size=0.25)\n",
    "#print('Shape of X_Subscribers_TrainingData:', x_sub_train.shape)\n",
    "#print(x_sub_train)\n",
    "LR_sub = LinearRegression()\n",
    "LR_sub.fit(x_sub_train,y_sub_train)\n",
    "y_sub_predict = LR_sub.predict(x_sub_test)\n",
    "print(y_sub_predict)\n",
    "print('Test Score:',LR_sub.score(x_sub_test, y_sub_test))\n",
    "print('Train Score:', LR_sub.score(x_sub_train, y_sub_train))\n",
    "print('Linear Model Coefficient (m): ', LR_sub.coef_)\n",
    "print('Linear Model Coefficient (b): ', LR_sub.intercept_)\n",
    "MSE_LR_sub=mean_squared_error(y_sub_test,y_sub_predict)\n",
    "print(\"mean_sqrd_error is==\", MSE_LR_sub)"
   ]
  },
  {
   "cell_type": "code",
   "execution_count": 34,
   "id": "e9138e0d",
   "metadata": {},
   "outputs": [
    {
     "data": {
      "image/png": "[encoded data removed]",
      "text/plain": [
       "<Figure size 1080x504 with 1 Axes>"
      ]
     },
     "metadata": {
      "needs_background": "light"
     },
     "output_type": "display_data"
    }
   ],
   "source": [
    "plt.bar([\"Year\", \"Subscribers\",\"Profit\",\"Content_spend\"],[MSE_LR_yr,MSE_LR_sub,MSE_LR_prof,MSE_LR_cont])\n",
    "plt.title(\"Feature Selection\", fontweight='bold')\n",
    "plt.ylabel(\"MSE of features\")\n",
    "plt.xlabel(\"Features\")\n",
    "plt.show()"
   ]
  },
  {
   "cell_type": "code",
   "execution_count": 35,
   "id": "ff6551c9",
   "metadata": {},
   "outputs": [
    {
     "name": "stderr",
     "output_type": "stream",
     "text": [
      "C:\\Users\\vdp10002\\Anaconda3\\lib\\site-packages\\sklearn\\base.py:450: UserWarning: X does not have valid feature names, but LinearRegression was fitted with feature names\n",
      "  warnings.warn(\n"
     ]
    },
    {
     "data": {
      "text/plain": [
       "array([[24.49726383]])"
      ]
     },
     "execution_count": 35,
     "metadata": {},
     "output_type": "execute_result"
    }
   ],
   "source": [
    "# predict revenue with #ofSubscribers\n",
    "y_predict_1 = LR_sub.predict([[200]])\n",
    "y_predict_1"
   ]
  },
  {
   "cell_type": "code",
   "execution_count": 36,
   "id": "a5015ebf",
   "metadata": {},
   "outputs": [
    {
     "name": "stdout",
     "output_type": "stream",
     "text": [
      "[[25.75564142]]\n"
     ]
    },
    {
     "name": "stderr",
     "output_type": "stream",
     "text": [
      "C:\\Users\\vdp10002\\Anaconda3\\lib\\site-packages\\sklearn\\base.py:450: UserWarning: X does not have valid feature names, but LinearRegression was fitted with feature names\n",
      "  warnings.warn(\n"
     ]
    }
   ],
   "source": [
    "# predict revenue for a particular year\n",
    "y_predict_2 = LR_yr.predict([[2030]])\n",
    "print(y_predict_2)"
   ]
  },
  {
   "cell_type": "markdown",
   "id": "ac9961a7",
   "metadata": {},
   "source": [
    "# Random Forest Regression Model"
   ]
  },
  {
   "cell_type": "code",
   "execution_count": 37,
   "id": "85674844",
   "metadata": {},
   "outputs": [],
   "source": [
    "from sklearn.ensemble import RandomForestRegressor"
   ]
  },
  {
   "cell_type": "code",
   "execution_count": 38,
   "id": "9e7f4574",
   "metadata": {},
   "outputs": [
    {
     "name": "stdout",
     "output_type": "stream",
     "text": [
      "CPU times: total: 109 ms\n",
      "Wall time: 85 ms\n"
     ]
    },
    {
     "name": "stderr",
     "output_type": "stream",
     "text": [
      "<timed exec>:3: DataConversionWarning: A column-vector y was passed when a 1d array was expected. Please change the shape of y to (n_samples,), for example using ravel().\n"
     ]
    },
    {
     "data": {
      "text/plain": [
       "RandomForestRegressor(n_jobs=-1)"
      ]
     },
     "execution_count": 38,
     "metadata": {},
     "output_type": "execute_result"
    }
   ],
   "source": [
    "%%time\n",
    "#instantiating Random Forest regression model and fitting it to the training data\n",
    "RF = RandomForestRegressor(n_jobs=-1) \n",
    "RF.fit(x_sub_train, y_sub_train)"
   ]
  },
  {
   "cell_type": "code",
   "execution_count": 39,
   "id": "a8b6efa9",
   "metadata": {},
   "outputs": [
    {
     "name": "stdout",
     "output_type": "stream",
     "text": [
      "RF Testing Score: -0.8282682448036791\n",
      "RF Taining Score: 0.968001770168733\n"
     ]
    }
   ],
   "source": [
    "# Calculate R2\n",
    "RF_train_score=RF.score(x_sub_train, y_sub_train)\n",
    "RF_test_score=RF.score(x_sub_test, y_sub_test)\n",
    "print('RF Testing Score:',RF_test_score)\n",
    "print('RF Taining Score:',RF_train_score)"
   ]
  },
  {
   "cell_type": "code",
   "execution_count": 40,
   "id": "53f4d151",
   "metadata": {},
   "outputs": [
    {
     "name": "stdout",
     "output_type": "stream",
     "text": [
      "[5.514 5.514 8.647]\n"
     ]
    }
   ],
   "source": [
    "#predicting on test data\n",
    "y_predict_RF = RF.predict(x_sub_test)\n",
    "print(y_predict_RF)"
   ]
  },
  {
   "cell_type": "code",
   "execution_count": 41,
   "id": "628d898a",
   "metadata": {},
   "outputs": [
    {
     "name": "stdout",
     "output_type": "stream",
     "text": [
      "RF r2 socre is  -0.6401499171377567\n",
      "RF mean_sqrd_error is== 1.7592003333333206\n",
      "RF root_mean_squared error of is== 1.3263484961854184\n"
     ]
    },
    {
     "name": "stderr",
     "output_type": "stream",
     "text": [
      "C:\\Users\\vdp10002\\Anaconda3\\lib\\site-packages\\sklearn\\base.py:493: FutureWarning: The feature names should match those that were passed during fit. Starting version 1.2, an error will be raised.\n",
      "Feature names unseen at fit time:\n",
      "- Revenue\n",
      "Feature names seen at fit time, yet now missing:\n",
      "- Subscribers\n",
      "\n",
      "  warnings.warn(message, FutureWarning)\n"
     ]
    }
   ],
   "source": [
    "#evaluating Random Forest regression model\n",
    "score_RF=RF.score(y_sub_test,y_predict_RF)\n",
    "MSE_RF=mean_squared_error(y_sub_test,y_predict_RF)\n",
    "RMSE_RF=np.sqrt(mean_squared_error(y_sub_test,y_predict_RF))\n",
    "print(\"RF r2 socre is \",score_RF)\n",
    "print(\"RF mean_sqrd_error is==\", MSE_RF)\n",
    "print(\"RF root_mean_squared error of is==\",RMSE_RF)"
   ]
  },
  {
   "cell_type": "markdown",
   "id": "b64674c7",
   "metadata": {},
   "source": [
    "# KNN Regression Model"
   ]
  },
  {
   "cell_type": "code",
   "execution_count": 42,
   "id": "f9f60b64",
   "metadata": {},
   "outputs": [],
   "source": [
    "from sklearn.neighbors import KNeighborsRegressor "
   ]
  },
  {
   "cell_type": "code",
   "execution_count": 43,
   "id": "2513e117",
   "metadata": {},
   "outputs": [
    {
     "name": "stdout",
     "output_type": "stream",
     "text": [
      "CPU times: total: 0 ns\n",
      "Wall time: 2 ms\n"
     ]
    },
    {
     "data": {
      "text/plain": [
       "KNeighborsRegressor(n_neighbors=2)"
      ]
     },
     "execution_count": 43,
     "metadata": {},
     "output_type": "execute_result"
    }
   ],
   "source": [
    "%%time\n",
    "#instantiating KNN regression model and fitting it to the training data\n",
    "KNN = KNeighborsRegressor(n_neighbors=2)\n",
    "KNN.fit(x_sub_train,y_sub_train)"
   ]
  },
  {
   "cell_type": "code",
   "execution_count": 44,
   "id": "2171200e",
   "metadata": {},
   "outputs": [
    {
     "name": "stdout",
     "output_type": "stream",
     "text": [
      "KNN Testing Score: -1.9081986143187066\n",
      "KNN Taining Score: 0.9104524248986294\n"
     ]
    }
   ],
   "source": [
    "KNN_test_score=KNN.score(x_sub_test, y_sub_test)\n",
    "KNN_train_score=KNN.score(x_sub_train, y_sub_train)\n",
    "print('KNN Testing Score:',KNN_test_score)\n",
    "print('KNN Taining Score:',KNN_train_score)"
   ]
  },
  {
   "cell_type": "code",
   "execution_count": 45,
   "id": "af24fe55",
   "metadata": {},
   "outputs": [
    {
     "name": "stdout",
     "output_type": "stream",
     "text": [
      "[[6.15]\n",
      " [6.15]\n",
      " [8.8 ]]\n"
     ]
    }
   ],
   "source": [
    "y_predict_knn = KNN.predict(x_sub_test)\n",
    "print(y_predict_knn)"
   ]
  },
  {
   "cell_type": "code",
   "execution_count": 47,
   "id": "0e5d3611",
   "metadata": {},
   "outputs": [
    {
     "name": "stdout",
     "output_type": "stream",
     "text": [
      "r2 socre is  -0.07644012559892577\n",
      "MSE is  2.7983333333333342\n",
      "RMSE is  1.6728219670166142\n"
     ]
    },
    {
     "name": "stderr",
     "output_type": "stream",
     "text": [
      "C:\\Users\\vdp10002\\Anaconda3\\lib\\site-packages\\sklearn\\base.py:493: FutureWarning: The feature names should match those that were passed during fit. Starting version 1.2, an error will be raised.\n",
      "Feature names unseen at fit time:\n",
      "- Revenue\n",
      "Feature names seen at fit time, yet now missing:\n",
      "- Subscribers\n",
      "\n",
      "  warnings.warn(message, FutureWarning)\n"
     ]
    }
   ],
   "source": [
    "score_KNN=KNN.score(y_sub_test,y_predict_RF)\n",
    "MSE_KNN=mean_squared_error(y_sub_test,y_predict_knn)\n",
    "RMSE_KNN=np.sqrt(mean_squared_error(y_sub_test,y_predict_knn))\n",
    "print(\"r2 socre is \",score_KNN)\n",
    "print(\"MSE is \",MSE_KNN)\n",
    "print(\"RMSE is \",RMSE_KNN)"
   ]
  },
  {
   "cell_type": "markdown",
   "id": "84751e2b",
   "metadata": {},
   "source": [
    "# Decision Tree Regression Model"
   ]
  },
  {
   "cell_type": "code",
   "execution_count": 48,
   "id": "97321c5e",
   "metadata": {},
   "outputs": [],
   "source": [
    "from sklearn.tree import DecisionTreeRegressor "
   ]
  },
  {
   "cell_type": "code",
   "execution_count": 49,
   "id": "145613eb",
   "metadata": {},
   "outputs": [
    {
     "name": "stdout",
     "output_type": "stream",
     "text": [
      "CPU times: total: 0 ns\n",
      "Wall time: 4.04 ms\n"
     ]
    },
    {
     "data": {
      "text/plain": [
       "DecisionTreeRegressor(random_state=0)"
      ]
     },
     "execution_count": 49,
     "metadata": {},
     "output_type": "execute_result"
    }
   ],
   "source": [
    "%%time\n",
    "#instantiating Decision Tree regression model and fitting it to the training data\n",
    "DT = DecisionTreeRegressor(random_state = 0)\n",
    "DT.fit(x_sub_train,y_sub_train)"
   ]
  },
  {
   "cell_type": "code",
   "execution_count": 50,
   "id": "cd87f2cc",
   "metadata": {},
   "outputs": [
    {
     "name": "stdout",
     "output_type": "stream",
     "text": [
      "DT Testing Score: -2.0000000000000004\n",
      "DT Taining Score: 1.0\n"
     ]
    }
   ],
   "source": [
    "DT_test_score=DT.score(x_sub_test, y_sub_test)\n",
    "DT_train_score=DT.score(x_sub_train, y_sub_train)\n",
    "print('DT Testing Score:',DT_test_score)\n",
    "print('DT Taining Score:',DT_train_score)"
   ]
  },
  {
   "cell_type": "code",
   "execution_count": 51,
   "id": "86ea229c",
   "metadata": {},
   "outputs": [
    {
     "name": "stdout",
     "output_type": "stream",
     "text": [
      "[3.5 3.5 8.8]\n"
     ]
    }
   ],
   "source": [
    "y_predict_DT = DT.predict(x_sub_test)\n",
    "print(y_predict_DT)"
   ]
  },
  {
   "cell_type": "code",
   "execution_count": 52,
   "id": "d0da765e",
   "metadata": {},
   "outputs": [
    {
     "name": "stdout",
     "output_type": "stream",
     "text": [
      "r2 socre is  -1.9999999999999996\n",
      "MSE is  2.886666666666668\n",
      "RMSE is  1.6990193249832881\n"
     ]
    },
    {
     "name": "stderr",
     "output_type": "stream",
     "text": [
      "C:\\Users\\vdp10002\\Anaconda3\\lib\\site-packages\\sklearn\\base.py:493: FutureWarning: The feature names should match those that were passed during fit. Starting version 1.2, an error will be raised.\n",
      "Feature names unseen at fit time:\n",
      "- Revenue\n",
      "Feature names seen at fit time, yet now missing:\n",
      "- Subscribers\n",
      "\n",
      "  warnings.warn(message, FutureWarning)\n"
     ]
    }
   ],
   "source": [
    "score_DT=DT.score(y_sub_test,y_predict_knn)\n",
    "MSE_DT=mean_squared_error(y_sub_test,y_predict_DT)\n",
    "RMSE_DT=np.sqrt(mean_squared_error(y_sub_test,y_predict_DT))\n",
    "print(\"r2 socre is \",score_DT)\n",
    "print(\"MSE is \",MSE_DT)\n",
    "print(\"RMSE is \",RMSE_DT)"
   ]
  },
  {
   "cell_type": "markdown",
   "id": "5456524e",
   "metadata": {},
   "source": [
    "# Comparing Models"
   ]
  },
  {
   "cell_type": "code",
   "execution_count": 53,
   "id": "e2170a06",
   "metadata": {},
   "outputs": [
    {
     "data": {
      "image/png": "[encoded data removed]",
      "text/plain": [
       "<Figure size 1080x504 with 1 Axes>"
      ]
     },
     "metadata": {
      "needs_background": "light"
     },
     "output_type": "display_data"
    }
   ],
   "source": [
    "plt.bar([\"Linear\", \"DecisionTree\",\"RandomForest\",\"KNN\"],[MSE_LR,MSE_DT,MSE_RF,MSE_KNN], color=['blue', 'red', 'yellow', 'green'])\n",
    "plt.title(\"Error comparision of ML models\", fontweight=\"bold\")\n",
    "plt.ylabel(\"MSE\", fontweight=\"bold\")\n",
    "plt.xlabel(\"Regression Models\", fontweight=\"bold\")\n",
    "plt.show()"
   ]
  },
  {
   "cell_type": "code",
   "execution_count": null,
   "id": "7599d723",
   "metadata": {},
   "outputs": [],
   "source": []
  }
 ],
 "metadata": {
  "kernelspec": {
   "display_name": "Python 3 (ipykernel)",
   "language": "python",
   "name": "python3"
  },
  "language_info": {
   "codemirror_mode": {
    "name": "ipython",
    "version": 3
   },
   "file_extension": ".py",
   "mimetype": "text/x-python",
   "name": "python",
   "nbconvert_exporter": "python",
   "pygments_lexer": "ipython3",
   "version": "3.9.12"
  }
 },
 "nbformat": 4,
 "nbformat_minor": 5
}
